{
  "nbformat": 4,
  "nbformat_minor": 0,
  "metadata": {
    "anaconda-cloud": {},
    "kernelspec": {
      "display_name": "Python 3",
      "language": "python",
      "name": "python3"
    },
    "language_info": {
      "codemirror_mode": {
        "name": "ipython",
        "version": 3
      },
      "file_extension": ".py",
      "mimetype": "text/x-python",
      "name": "python",
      "nbconvert_exporter": "python",
      "pygments_lexer": "ipython3",
      "version": "3.7.3"
    },
    "colab": {
      "name": "TP2_1.ipynb",
      "provenance": [],
      "collapsed_sections": []
    }
  },
  "cells": [
    {
      "cell_type": "markdown",
      "metadata": {
        "id": "qGCN0em3iHe8",
        "colab_type": "text"
      },
      "source": [
        "# TP 2: Keras, MNIST data y redes totalmente conectadas (FC)"
      ]
    },
    {
      "cell_type": "markdown",
      "metadata": {
        "id": "nURjgYyYXF2j",
        "colab_type": "text"
      },
      "source": [
        "### Curso-Taller 2019: Aprendizaje Automático e Imágenes en Python \n",
        "* Ejercicio 1 : Cargue la base de datos MNIST con target codificado ”onehot”, considerando la parte de entrenamiento, la de validación y la de test. \n",
        "* Ejercicio2 : Defina dos  redes totalmente conectadas diferentes que sean capaces de clasificar la base MNIST. Una con 3 capas ocultas y la otra con 5. Evalúe posible overfitting en ambas y compárelas usando la parte de entrenamiento y la parte de la base destinada para validación.\n",
        "* Ejercicio 3: Use la comparación anterior para elegir un modelo. Realice las predicciones en el conjunto de test y grafique 9 imágenes mal clasificada por el modelo elegido. \n",
        "*\tEjercicio 4: Defina dos  redes convolucionales diferentes que sean capaces de clasificar la base MNIST. Utilice para entrenar ambas la base de entrenamiento aumentada (por 21=3x3x3) utilizando rotación, escala y traslación.\n",
        "*\tEjercicio 5: Describa en detalle una posible aplicación de las redes convolucionales vistas en el taller a un problema de clasificación en ciencia, el estado o en la industria.\n"
      ]
    },
    {
      "cell_type": "code",
      "metadata": {
        "id": "NYgsQ54WiHe-",
        "colab_type": "code",
        "colab": {
          "base_uri": "https://localhost:8080/",
          "height": 80
        },
        "outputId": "911ffe61-0daa-44b7-c3d0-6f8bc5df1691"
      },
      "source": [
        "# librerias necesarias     \n",
        "import matplotlib\n",
        "import matplotlib.pyplot as plt\n",
        "import tensorflow as tf\n",
        "import numpy as np\n",
        "from keras.layers import Input, Dense\n",
        "from keras.models import Model\n",
        "from keras.callbacks import EarlyStopping, ModelCheckpoint, Callback"
      ],
      "execution_count": 1,
      "outputs": [
        {
          "output_type": "display_data",
          "data": {
            "text/html": [
              "<p style=\"color: red;\">\n",
              "The default version of TensorFlow in Colab will soon switch to TensorFlow 2.x.<br>\n",
              "We recommend you <a href=\"https://www.tensorflow.org/guide/migrate\" target=\"_blank\">upgrade</a> now \n",
              "or ensure your notebook will continue to use TensorFlow 1.x via the <code>%tensorflow_version 1.x</code> magic:\n",
              "<a href=\"https://colab.research.google.com/notebooks/tensorflow_version.ipynb\" target=\"_blank\">more info</a>.</p>\n"
            ],
            "text/plain": [
              "<IPython.core.display.HTML object>"
            ]
          },
          "metadata": {
            "tags": []
          }
        },
        {
          "output_type": "stream",
          "text": [
            "Using TensorFlow backend.\n"
          ],
          "name": "stderr"
        }
      ]
    },
    {
      "cell_type": "code",
      "metadata": {
        "id": "RqD8PjRwiHfE",
        "colab_type": "code",
        "outputId": "8b7b1aad-6566-4d5a-c195-4f6ede3d8738",
        "colab": {
          "base_uri": "https://localhost:8080/",
          "height": 530
        }
      },
      "source": [
        "from tensorflow.examples.tutorials.mnist import input_data\n",
        "\n",
        "# importo base de datos MNIST \n",
        "mnist = input_data.read_data_sets(\"./mnist/data/\", one_hot=True)"
      ],
      "execution_count": 2,
      "outputs": [
        {
          "output_type": "stream",
          "text": [
            "WARNING:tensorflow:From <ipython-input-2-95759960e318>:4: read_data_sets (from tensorflow.contrib.learn.python.learn.datasets.mnist) is deprecated and will be removed in a future version.\n",
            "Instructions for updating:\n",
            "Please use alternatives such as official/mnist/dataset.py from tensorflow/models.\n",
            "WARNING:tensorflow:From /tensorflow-1.15.0/python3.6/tensorflow_core/contrib/learn/python/learn/datasets/mnist.py:260: maybe_download (from tensorflow.contrib.learn.python.learn.datasets.base) is deprecated and will be removed in a future version.\n",
            "Instructions for updating:\n",
            "Please write your own downloading logic.\n",
            "WARNING:tensorflow:From /tensorflow-1.15.0/python3.6/tensorflow_core/contrib/learn/python/learn/datasets/base.py:252: _internal_retry.<locals>.wrap.<locals>.wrapped_fn (from tensorflow.contrib.learn.python.learn.datasets.base) is deprecated and will be removed in a future version.\n",
            "Instructions for updating:\n",
            "Please use urllib or similar directly.\n",
            "Successfully downloaded train-images-idx3-ubyte.gz 9912422 bytes.\n",
            "WARNING:tensorflow:From /tensorflow-1.15.0/python3.6/tensorflow_core/contrib/learn/python/learn/datasets/mnist.py:262: extract_images (from tensorflow.contrib.learn.python.learn.datasets.mnist) is deprecated and will be removed in a future version.\n",
            "Instructions for updating:\n",
            "Please use tf.data to implement this functionality.\n",
            "Extracting ./mnist/data/train-images-idx3-ubyte.gz\n",
            "Successfully downloaded train-labels-idx1-ubyte.gz 28881 bytes.\n",
            "WARNING:tensorflow:From /tensorflow-1.15.0/python3.6/tensorflow_core/contrib/learn/python/learn/datasets/mnist.py:267: extract_labels (from tensorflow.contrib.learn.python.learn.datasets.mnist) is deprecated and will be removed in a future version.\n",
            "Instructions for updating:\n",
            "Please use tf.data to implement this functionality.\n",
            "Extracting ./mnist/data/train-labels-idx1-ubyte.gz\n",
            "WARNING:tensorflow:From /tensorflow-1.15.0/python3.6/tensorflow_core/contrib/learn/python/learn/datasets/mnist.py:110: dense_to_one_hot (from tensorflow.contrib.learn.python.learn.datasets.mnist) is deprecated and will be removed in a future version.\n",
            "Instructions for updating:\n",
            "Please use tf.one_hot on tensors.\n",
            "Successfully downloaded t10k-images-idx3-ubyte.gz 1648877 bytes.\n",
            "Extracting ./mnist/data/t10k-images-idx3-ubyte.gz\n",
            "Successfully downloaded t10k-labels-idx1-ubyte.gz 4542 bytes.\n",
            "Extracting ./mnist/data/t10k-labels-idx1-ubyte.gz\n",
            "WARNING:tensorflow:From /tensorflow-1.15.0/python3.6/tensorflow_core/contrib/learn/python/learn/datasets/mnist.py:290: DataSet.__init__ (from tensorflow.contrib.learn.python.learn.datasets.mnist) is deprecated and will be removed in a future version.\n",
            "Instructions for updating:\n",
            "Please use alternatives such as official/mnist/dataset.py from tensorflow/models.\n"
          ],
          "name": "stdout"
        }
      ]
    },
    {
      "cell_type": "markdown",
      "metadata": {
        "id": "75KyVwjiiHfJ",
        "colab_type": "text"
      },
      "source": [
        "## Exploración del dataset"
      ]
    },
    {
      "cell_type": "code",
      "metadata": {
        "id": "-g-fjTlliHfL",
        "colab_type": "code",
        "outputId": "16b52b7d-501f-461e-92a5-e7fb35c1da81",
        "colab": {
          "base_uri": "https://localhost:8080/",
          "height": 85
        }
      },
      "source": [
        "# dimensiones de la base de datos\n",
        "print(f\"Imagenes de Entrenamiento: {mnist.train.images.shape}\")\n",
        "print(f\"Labels de Entrenamiento: {mnist.train.labels.shape}\")\n",
        "\n",
        "print(f\"Imagenes de Testeo: {mnist.test.images.shape}\")\n",
        "print(f\"Labels de Testeo: {mnist.test.labels.shape}\")"
      ],
      "execution_count": 3,
      "outputs": [
        {
          "output_type": "stream",
          "text": [
            "Imagenes de Entrenamiento: (55000, 784)\n",
            "Labels de Entrenamiento: (55000, 10)\n",
            "Imagenes de Testeo: (10000, 784)\n",
            "Labels de Testeo: (10000, 10)\n"
          ],
          "name": "stdout"
        }
      ]
    },
    {
      "cell_type": "code",
      "metadata": {
        "id": "QT27k0QeDOz3",
        "colab_type": "code",
        "outputId": "c1623004-3e58-429e-d76d-52569c8e45c8",
        "colab": {
          "base_uri": "https://localhost:8080/",
          "height": 34
        }
      },
      "source": [
        "print(mnist.train.labels[0])"
      ],
      "execution_count": 4,
      "outputs": [
        {
          "output_type": "stream",
          "text": [
            "[0. 0. 0. 0. 0. 0. 0. 1. 0. 0.]\n"
          ],
          "name": "stdout"
        }
      ]
    },
    {
      "cell_type": "markdown",
      "metadata": {
        "id": "p_VU4gSR7nnJ",
        "colab_type": "text"
      },
      "source": [
        "Cuántas imágenes de entrenamiento tiene la base? \n",
        "cuantos pixeles tiene cada una?\n"
      ]
    },
    {
      "cell_type": "markdown",
      "metadata": {
        "id": "JjlAOgGIX-it",
        "colab_type": "text"
      },
      "source": [
        "Etiquetas One hot Encoding:"
      ]
    },
    {
      "cell_type": "markdown",
      "metadata": {
        "id": "_SelwY1mYXCp",
        "colab_type": "text"
      },
      "source": [
        "Exploración del Data Set con Etiquetas One hot Encoding:"
      ]
    },
    {
      "cell_type": "code",
      "metadata": {
        "id": "Pj4hBbKeiHfO",
        "colab_type": "code",
        "outputId": "5922e1ce-a7e5-444c-9642-b3f168dbdb50",
        "colab": {
          "base_uri": "https://localhost:8080/",
          "height": 1000
        }
      },
      "source": [
        "# visualizamos algunas imagenes\n",
        "fig, ax = plt.subplots(3, 3, figsize=[15, 40])\n",
        "\n",
        "random_image = np.random.randint(low=0, high=55000, size=1)\n",
        "\n",
        "for j in range(3):\n",
        "    for i in range(3):\n",
        "        \n",
        "       random_image = np.random.randint(low=0, high=55000, size=1)\n",
        "\n",
        "       ax[i,j].imshow(mnist.train.images[random_image].reshape(28,28), 'gray')\n",
        "       ax[i,j].set_xticks([])\n",
        "       ax[i,j].set_yticks([])\n",
        "       ax[i,j].set_title('Label:  ' + str(mnist.train.labels[random_image]), color='r')\n",
        "\n",
        "\n",
        "#fig.subplots_adjust(wspace=0.1, hspace=0)\n",
        "plt.show()"
      ],
      "execution_count": 5,
      "outputs": [
        {
          "output_type": "display_data",
          "data": {
            "image/png": "[encoded data removed]",
            "text/plain": [
              "<Figure size 1080x2880 with 9 Axes>"
            ]
          },
          "metadata": {
            "tags": []
          }
        }
      ]
    },
    {
      "cell_type": "code",
      "metadata": {
        "id": "KPuL4PZfiHfS",
        "colab_type": "code",
        "outputId": "ed63963d-2602-4996-8708-ffa706fc6992",
        "colab": {
          "base_uri": "https://localhost:8080/",
          "height": 34
        }
      },
      "source": [
        "print(mnist.train.images[0].shape)"
      ],
      "execution_count": 6,
      "outputs": [
        {
          "output_type": "stream",
          "text": [
            "(784,)\n"
          ],
          "name": "stdout"
        }
      ]
    },
    {
      "cell_type": "markdown",
      "metadata": {
        "id": "YJsHO3KViHfV",
        "colab_type": "text"
      },
      "source": [
        "# Definición y entramiento del Modelo con 3 capas ocultas"
      ]
    },
    {
      "cell_type": "code",
      "metadata": {
        "id": "fAiuohRQiHfW",
        "colab_type": "code",
        "colab": {
          "base_uri": "https://localhost:8080/",
          "height": 139
        },
        "outputId": "8efef9d2-c58b-447b-ff93-ba5d4640d36f"
      },
      "source": [
        "entrada = Input(shape=(784,))\n",
        "layer1 = Dense(32, activation='sigmoid')(entrada)\n",
        "\n",
        "layer2 = Dense(128, activation='sigmoid')(layer1)\n",
        "layer3 = Dense(80, activation='sigmoid')(layer2)\n",
        "predicciones = Dense(10, activation='softmax')(layer3)\n",
        "\n",
        "###"
      ],
      "execution_count": 7,
      "outputs": [
        {
          "output_type": "stream",
          "text": [
            "WARNING:tensorflow:From /usr/local/lib/python3.6/dist-packages/keras/backend/tensorflow_backend.py:66: The name tf.get_default_graph is deprecated. Please use tf.compat.v1.get_default_graph instead.\n",
            "\n",
            "WARNING:tensorflow:From /usr/local/lib/python3.6/dist-packages/keras/backend/tensorflow_backend.py:541: The name tf.placeholder is deprecated. Please use tf.compat.v1.placeholder instead.\n",
            "\n",
            "WARNING:tensorflow:From /usr/local/lib/python3.6/dist-packages/keras/backend/tensorflow_backend.py:4432: The name tf.random_uniform is deprecated. Please use tf.random.uniform instead.\n",
            "\n"
          ],
          "name": "stdout"
        }
      ]
    },
    {
      "cell_type": "code",
      "metadata": {
        "id": "rgZy4_2liHfZ",
        "colab_type": "code",
        "colab": {}
      },
      "source": [
        "### entrada y salida del modelo definidas\n",
        "\n",
        "model = Model(inputs=entrada, outputs=predicciones)\n",
        "\n",
        "###"
      ],
      "execution_count": 0,
      "outputs": []
    },
    {
      "cell_type": "code",
      "metadata": {
        "id": "FmOAAtQAiHfc",
        "colab_type": "code",
        "colab": {
          "base_uri": "https://localhost:8080/",
          "height": 105
        },
        "outputId": "94fbfa0f-48a1-4132-933a-5bd911635a42"
      },
      "source": [
        "### optimizador y funcion de costo definidos\n",
        "\n",
        "model.compile(optimizer='rmsprop',\n",
        "              loss='categorical_crossentropy',\n",
        "              metrics=['accuracy'])\n",
        "\n",
        "###"
      ],
      "execution_count": 9,
      "outputs": [
        {
          "output_type": "stream",
          "text": [
            "WARNING:tensorflow:From /usr/local/lib/python3.6/dist-packages/keras/optimizers.py:793: The name tf.train.Optimizer is deprecated. Please use tf.compat.v1.train.Optimizer instead.\n",
            "\n",
            "WARNING:tensorflow:From /usr/local/lib/python3.6/dist-packages/keras/backend/tensorflow_backend.py:3576: The name tf.log is deprecated. Please use tf.math.log instead.\n",
            "\n"
          ],
          "name": "stdout"
        }
      ]
    },
    {
      "cell_type": "code",
      "metadata": {
        "id": "05ADauOxiHfg",
        "colab_type": "code",
        "colab": {}
      },
      "source": [
        "## para guardar el modelo\n",
        "filepath = \"prueba1.h5\"\n",
        "model_checkpoint = ModelCheckpoint(filepath, monitor='loss',verbose=1, save_best_only=True)"
      ],
      "execution_count": 0,
      "outputs": []
    },
    {
      "cell_type": "code",
      "metadata": {
        "id": "7c19N8MPiHfj",
        "colab_type": "code",
        "outputId": "29efe3dc-00cc-455e-d500-6f12693114ee",
        "colab": {
          "base_uri": "https://localhost:8080/",
          "height": 1000
        }
      },
      "source": [
        "\n",
        "\n",
        "history = model.fit(mnist.train.images, mnist.train.labels,validation_split=0.1,  \n",
        "              batch_size=32,\n",
        "              epochs=50, validation_data=(mnist.test.images, mnist.test.labels), callbacks=[model_checkpoint])"
      ],
      "execution_count": 11,
      "outputs": [
        {
          "output_type": "stream",
          "text": [
            "WARNING:tensorflow:From /tensorflow-1.15.0/python3.6/tensorflow_core/python/ops/math_grad.py:1424: where (from tensorflow.python.ops.array_ops) is deprecated and will be removed in a future version.\n",
            "Instructions for updating:\n",
            "Use tf.where in 2.0, which has the same broadcast rule as np.where\n",
            "WARNING:tensorflow:From /usr/local/lib/python3.6/dist-packages/keras/backend/tensorflow_backend.py:1033: The name tf.assign_add is deprecated. Please use tf.compat.v1.assign_add instead.\n",
            "\n",
            "WARNING:tensorflow:From /usr/local/lib/python3.6/dist-packages/keras/backend/tensorflow_backend.py:1020: The name tf.assign is deprecated. Please use tf.compat.v1.assign instead.\n",
            "\n",
            "WARNING:tensorflow:From /usr/local/lib/python3.6/dist-packages/keras/backend/tensorflow_backend.py:3005: The name tf.Session is deprecated. Please use tf.compat.v1.Session instead.\n",
            "\n",
            "Train on 55000 samples, validate on 10000 samples\n",
            "Epoch 1/50\n",
            "WARNING:tensorflow:From /usr/local/lib/python3.6/dist-packages/keras/backend/tensorflow_backend.py:190: The name tf.get_default_session is deprecated. Please use tf.compat.v1.get_default_session instead.\n",
            "\n",
            "WARNING:tensorflow:From /usr/local/lib/python3.6/dist-packages/keras/backend/tensorflow_backend.py:197: The name tf.ConfigProto is deprecated. Please use tf.compat.v1.ConfigProto instead.\n",
            "\n",
            "WARNING:tensorflow:From /usr/local/lib/python3.6/dist-packages/keras/backend/tensorflow_backend.py:207: The name tf.global_variables is deprecated. Please use tf.compat.v1.global_variables instead.\n",
            "\n",
            "WARNING:tensorflow:From /usr/local/lib/python3.6/dist-packages/keras/backend/tensorflow_backend.py:216: The name tf.is_variable_initialized is deprecated. Please use tf.compat.v1.is_variable_initialized instead.\n",
            "\n",
            "WARNING:tensorflow:From /usr/local/lib/python3.6/dist-packages/keras/backend/tensorflow_backend.py:223: The name tf.variables_initializer is deprecated. Please use tf.compat.v1.variables_initializer instead.\n",
            "\n",
            "55000/55000 [==============================] - 4s 69us/step - loss: 0.7312 - acc: 0.7842 - val_loss: 0.3327 - val_acc: 0.9064\n",
            "\n",
            "Epoch 00001: loss improved from inf to 0.73121, saving model to prueba1.h5\n",
            "Epoch 2/50\n",
            "55000/55000 [==============================] - 3s 57us/step - loss: 0.2804 - acc: 0.9176 - val_loss: 0.2569 - val_acc: 0.9217\n",
            "\n",
            "Epoch 00002: loss improved from 0.73121 to 0.28040, saving model to prueba1.h5\n",
            "Epoch 3/50\n",
            "55000/55000 [==============================] - 3s 57us/step - loss: 0.2182 - acc: 0.9353 - val_loss: 0.2112 - val_acc: 0.9382\n",
            "\n",
            "Epoch 00003: loss improved from 0.28040 to 0.21817, saving model to prueba1.h5\n",
            "Epoch 4/50\n",
            "55000/55000 [==============================] - 3s 57us/step - loss: 0.1844 - acc: 0.9463 - val_loss: 0.1867 - val_acc: 0.9463\n",
            "\n",
            "Epoch 00004: loss improved from 0.21817 to 0.18437, saving model to prueba1.h5\n",
            "Epoch 5/50\n",
            "55000/55000 [==============================] - 3s 55us/step - loss: 0.1631 - acc: 0.9522 - val_loss: 0.1608 - val_acc: 0.9547\n",
            "\n",
            "Epoch 00005: loss improved from 0.18437 to 0.16305, saving model to prueba1.h5\n",
            "Epoch 6/50\n",
            "55000/55000 [==============================] - 3s 55us/step - loss: 0.1474 - acc: 0.9569 - val_loss: 0.1547 - val_acc: 0.9546\n",
            "\n",
            "Epoch 00006: loss improved from 0.16305 to 0.14744, saving model to prueba1.h5\n",
            "Epoch 7/50\n",
            "55000/55000 [==============================] - 3s 56us/step - loss: 0.1365 - acc: 0.9599 - val_loss: 0.1475 - val_acc: 0.9576\n",
            "\n",
            "Epoch 00007: loss improved from 0.14744 to 0.13650, saving model to prueba1.h5\n",
            "Epoch 8/50\n",
            "55000/55000 [==============================] - 3s 57us/step - loss: 0.1274 - acc: 0.9626 - val_loss: 0.1505 - val_acc: 0.9574\n",
            "\n",
            "Epoch 00008: loss improved from 0.13650 to 0.12742, saving model to prueba1.h5\n",
            "Epoch 9/50\n",
            "55000/55000 [==============================] - 3s 56us/step - loss: 0.1192 - acc: 0.9648 - val_loss: 0.1455 - val_acc: 0.9606\n",
            "\n",
            "Epoch 00009: loss improved from 0.12742 to 0.11922, saving model to prueba1.h5\n",
            "Epoch 10/50\n",
            "55000/55000 [==============================] - 3s 56us/step - loss: 0.1130 - acc: 0.9666 - val_loss: 0.1497 - val_acc: 0.9569\n",
            "\n",
            "Epoch 00010: loss improved from 0.11922 to 0.11301, saving model to prueba1.h5\n",
            "Epoch 11/50\n",
            "55000/55000 [==============================] - 3s 57us/step - loss: 0.1074 - acc: 0.9684 - val_loss: 0.1369 - val_acc: 0.9624\n",
            "\n",
            "Epoch 00011: loss improved from 0.11301 to 0.10741, saving model to prueba1.h5\n",
            "Epoch 12/50\n",
            "55000/55000 [==============================] - 3s 57us/step - loss: 0.1035 - acc: 0.9694 - val_loss: 0.1416 - val_acc: 0.9602\n",
            "\n",
            "Epoch 00012: loss improved from 0.10741 to 0.10348, saving model to prueba1.h5\n",
            "Epoch 13/50\n",
            "55000/55000 [==============================] - 3s 56us/step - loss: 0.0990 - acc: 0.9705 - val_loss: 0.1378 - val_acc: 0.9612\n",
            "\n",
            "Epoch 00013: loss improved from 0.10348 to 0.09898, saving model to prueba1.h5\n",
            "Epoch 14/50\n",
            "55000/55000 [==============================] - 3s 56us/step - loss: 0.0950 - acc: 0.9727 - val_loss: 0.1329 - val_acc: 0.9628\n",
            "\n",
            "Epoch 00014: loss improved from 0.09898 to 0.09500, saving model to prueba1.h5\n",
            "Epoch 15/50\n",
            "55000/55000 [==============================] - 3s 56us/step - loss: 0.0924 - acc: 0.9731 - val_loss: 0.1279 - val_acc: 0.9658\n",
            "\n",
            "Epoch 00015: loss improved from 0.09500 to 0.09244, saving model to prueba1.h5\n",
            "Epoch 16/50\n",
            "55000/55000 [==============================] - 3s 56us/step - loss: 0.0902 - acc: 0.9739 - val_loss: 0.1364 - val_acc: 0.9622\n",
            "\n",
            "Epoch 00016: loss improved from 0.09244 to 0.09018, saving model to prueba1.h5\n",
            "Epoch 17/50\n",
            "55000/55000 [==============================] - 3s 56us/step - loss: 0.0874 - acc: 0.9749 - val_loss: 0.1305 - val_acc: 0.9656\n",
            "\n",
            "Epoch 00017: loss improved from 0.09018 to 0.08739, saving model to prueba1.h5\n",
            "Epoch 18/50\n",
            "55000/55000 [==============================] - 3s 60us/step - loss: 0.0835 - acc: 0.9763 - val_loss: 0.1382 - val_acc: 0.9641\n",
            "\n",
            "Epoch 00018: loss improved from 0.08739 to 0.08347, saving model to prueba1.h5\n",
            "Epoch 19/50\n",
            "55000/55000 [==============================] - 3s 60us/step - loss: 0.0814 - acc: 0.9765 - val_loss: 0.1316 - val_acc: 0.9667\n",
            "\n",
            "Epoch 00019: loss improved from 0.08347 to 0.08144, saving model to prueba1.h5\n",
            "Epoch 20/50\n",
            "55000/55000 [==============================] - 3s 56us/step - loss: 0.0807 - acc: 0.9768 - val_loss: 0.1347 - val_acc: 0.9651\n",
            "\n",
            "Epoch 00020: loss improved from 0.08144 to 0.08066, saving model to prueba1.h5\n",
            "Epoch 21/50\n",
            "55000/55000 [==============================] - 3s 56us/step - loss: 0.0777 - acc: 0.9775 - val_loss: 0.1359 - val_acc: 0.9665\n",
            "\n",
            "Epoch 00021: loss improved from 0.08066 to 0.07769, saving model to prueba1.h5\n",
            "Epoch 22/50\n",
            "55000/55000 [==============================] - 3s 56us/step - loss: 0.0757 - acc: 0.9787 - val_loss: 0.1259 - val_acc: 0.9675\n",
            "\n",
            "Epoch 00022: loss improved from 0.07769 to 0.07572, saving model to prueba1.h5\n",
            "Epoch 23/50\n",
            "55000/55000 [==============================] - 3s 56us/step - loss: 0.0744 - acc: 0.9785 - val_loss: 0.1397 - val_acc: 0.9641\n",
            "\n",
            "Epoch 00023: loss improved from 0.07572 to 0.07440, saving model to prueba1.h5\n",
            "Epoch 24/50\n",
            "55000/55000 [==============================] - 3s 56us/step - loss: 0.0725 - acc: 0.9789 - val_loss: 0.1369 - val_acc: 0.9650\n",
            "\n",
            "Epoch 00024: loss improved from 0.07440 to 0.07249, saving model to prueba1.h5\n",
            "Epoch 25/50\n",
            "55000/55000 [==============================] - 3s 56us/step - loss: 0.0699 - acc: 0.9803 - val_loss: 0.1338 - val_acc: 0.9665\n",
            "\n",
            "Epoch 00025: loss improved from 0.07249 to 0.06987, saving model to prueba1.h5\n",
            "Epoch 26/50\n",
            "55000/55000 [==============================] - 3s 56us/step - loss: 0.0698 - acc: 0.9797 - val_loss: 0.1415 - val_acc: 0.9666\n",
            "\n",
            "Epoch 00026: loss improved from 0.06987 to 0.06978, saving model to prueba1.h5\n",
            "Epoch 27/50\n",
            "55000/55000 [==============================] - 3s 56us/step - loss: 0.0678 - acc: 0.9805 - val_loss: 0.1336 - val_acc: 0.9650\n",
            "\n",
            "Epoch 00027: loss improved from 0.06978 to 0.06779, saving model to prueba1.h5\n",
            "Epoch 28/50\n",
            "55000/55000 [==============================] - 3s 56us/step - loss: 0.0663 - acc: 0.9809 - val_loss: 0.1327 - val_acc: 0.9664\n",
            "\n",
            "Epoch 00028: loss improved from 0.06779 to 0.06631, saving model to prueba1.h5\n",
            "Epoch 29/50\n",
            "55000/55000 [==============================] - 3s 57us/step - loss: 0.0642 - acc: 0.9817 - val_loss: 0.1412 - val_acc: 0.9659\n",
            "\n",
            "Epoch 00029: loss improved from 0.06631 to 0.06419, saving model to prueba1.h5\n",
            "Epoch 30/50\n",
            "55000/55000 [==============================] - 3s 56us/step - loss: 0.0626 - acc: 0.9824 - val_loss: 0.1421 - val_acc: 0.9652\n",
            "\n",
            "Epoch 00030: loss improved from 0.06419 to 0.06261, saving model to prueba1.h5\n",
            "Epoch 31/50\n",
            "55000/55000 [==============================] - 3s 56us/step - loss: 0.0622 - acc: 0.9821 - val_loss: 0.1462 - val_acc: 0.9651\n",
            "\n",
            "Epoch 00031: loss improved from 0.06261 to 0.06223, saving model to prueba1.h5\n",
            "Epoch 32/50\n",
            "55000/55000 [==============================] - 3s 56us/step - loss: 0.0605 - acc: 0.9825 - val_loss: 0.1427 - val_acc: 0.9661\n",
            "\n",
            "Epoch 00032: loss improved from 0.06223 to 0.06052, saving model to prueba1.h5\n",
            "Epoch 33/50\n",
            "55000/55000 [==============================] - 3s 56us/step - loss: 0.0580 - acc: 0.9835 - val_loss: 0.1487 - val_acc: 0.9653\n",
            "\n",
            "Epoch 00033: loss improved from 0.06052 to 0.05805, saving model to prueba1.h5\n",
            "Epoch 34/50\n",
            "55000/55000 [==============================] - 3s 56us/step - loss: 0.0586 - acc: 0.9832 - val_loss: 0.1496 - val_acc: 0.9628\n",
            "\n",
            "Epoch 00034: loss did not improve from 0.05805\n",
            "Epoch 35/50\n",
            "55000/55000 [==============================] - 3s 55us/step - loss: 0.0564 - acc: 0.9839 - val_loss: 0.1425 - val_acc: 0.9658\n",
            "\n",
            "Epoch 00035: loss improved from 0.05805 to 0.05643, saving model to prueba1.h5\n",
            "Epoch 36/50\n",
            "55000/55000 [==============================] - 3s 56us/step - loss: 0.0561 - acc: 0.9840 - val_loss: 0.1560 - val_acc: 0.9632\n",
            "\n",
            "Epoch 00036: loss improved from 0.05643 to 0.05611, saving model to prueba1.h5\n",
            "Epoch 37/50\n",
            "55000/55000 [==============================] - 3s 56us/step - loss: 0.0546 - acc: 0.9838 - val_loss: 0.1485 - val_acc: 0.9652\n",
            "\n",
            "Epoch 00037: loss improved from 0.05611 to 0.05456, saving model to prueba1.h5\n",
            "Epoch 38/50\n",
            "55000/55000 [==============================] - 3s 56us/step - loss: 0.0535 - acc: 0.9852 - val_loss: 0.1488 - val_acc: 0.9659\n",
            "\n",
            "Epoch 00038: loss improved from 0.05456 to 0.05351, saving model to prueba1.h5\n",
            "Epoch 39/50\n",
            "55000/55000 [==============================] - 3s 56us/step - loss: 0.0522 - acc: 0.9852 - val_loss: 0.1527 - val_acc: 0.9658\n",
            "\n",
            "Epoch 00039: loss improved from 0.05351 to 0.05218, saving model to prueba1.h5\n",
            "Epoch 40/50\n",
            "55000/55000 [==============================] - 3s 56us/step - loss: 0.0526 - acc: 0.9849 - val_loss: 0.1485 - val_acc: 0.9660\n",
            "\n",
            "Epoch 00040: loss did not improve from 0.05218\n",
            "Epoch 41/50\n",
            "55000/55000 [==============================] - 3s 56us/step - loss: 0.0509 - acc: 0.9854 - val_loss: 0.1625 - val_acc: 0.9606\n",
            "\n",
            "Epoch 00041: loss improved from 0.05218 to 0.05091, saving model to prueba1.h5\n",
            "Epoch 42/50\n",
            "55000/55000 [==============================] - 3s 55us/step - loss: 0.0490 - acc: 0.9857 - val_loss: 0.1584 - val_acc: 0.9650\n",
            "\n",
            "Epoch 00042: loss improved from 0.05091 to 0.04897, saving model to prueba1.h5\n",
            "Epoch 43/50\n",
            "55000/55000 [==============================] - 3s 55us/step - loss: 0.0497 - acc: 0.9854 - val_loss: 0.1638 - val_acc: 0.9633\n",
            "\n",
            "Epoch 00043: loss did not improve from 0.04897\n",
            "Epoch 44/50\n",
            "55000/55000 [==============================] - 3s 56us/step - loss: 0.0482 - acc: 0.9865 - val_loss: 0.1605 - val_acc: 0.9640\n",
            "\n",
            "Epoch 00044: loss improved from 0.04897 to 0.04820, saving model to prueba1.h5\n",
            "Epoch 45/50\n",
            "55000/55000 [==============================] - 3s 56us/step - loss: 0.0477 - acc: 0.9860 - val_loss: 0.1585 - val_acc: 0.9660\n",
            "\n",
            "Epoch 00045: loss improved from 0.04820 to 0.04767, saving model to prueba1.h5\n",
            "Epoch 46/50\n",
            "55000/55000 [==============================] - 3s 55us/step - loss: 0.0469 - acc: 0.9869 - val_loss: 0.1597 - val_acc: 0.9654\n",
            "\n",
            "Epoch 00046: loss improved from 0.04767 to 0.04691, saving model to prueba1.h5\n",
            "Epoch 47/50\n",
            "55000/55000 [==============================] - 3s 55us/step - loss: 0.0455 - acc: 0.9866 - val_loss: 0.1704 - val_acc: 0.9640\n",
            "\n",
            "Epoch 00047: loss improved from 0.04691 to 0.04549, saving model to prueba1.h5\n",
            "Epoch 48/50\n",
            "55000/55000 [==============================] - 3s 55us/step - loss: 0.0448 - acc: 0.9867 - val_loss: 0.1702 - val_acc: 0.9650\n",
            "\n",
            "Epoch 00048: loss improved from 0.04549 to 0.04481, saving model to prueba1.h5\n",
            "Epoch 49/50\n",
            "55000/55000 [==============================] - 3s 54us/step - loss: 0.0437 - acc: 0.9874 - val_loss: 0.1655 - val_acc: 0.9644\n",
            "\n",
            "Epoch 00049: loss improved from 0.04481 to 0.04370, saving model to prueba1.h5\n",
            "Epoch 50/50\n",
            "55000/55000 [==============================] - 3s 55us/step - loss: 0.0428 - acc: 0.9875 - val_loss: 0.1745 - val_acc: 0.9648\n",
            "\n",
            "Epoch 00050: loss improved from 0.04370 to 0.04275, saving model to prueba1.h5\n"
          ],
          "name": "stdout"
        }
      ]
    },
    {
      "cell_type": "code",
      "metadata": {
        "id": "l7p8geSZiHfm",
        "colab_type": "code",
        "outputId": "6ce5a2b0-f4ab-4143-bea1-520a99dfcec7",
        "colab": {
          "base_uri": "https://localhost:8080/",
          "height": 34
        }
      },
      "source": [
        "np.shape(history)"
      ],
      "execution_count": 12,
      "outputs": [
        {
          "output_type": "execute_result",
          "data": {
            "text/plain": [
              "()"
            ]
          },
          "metadata": {
            "tags": []
          },
          "execution_count": 12
        }
      ]
    },
    {
      "cell_type": "code",
      "metadata": {
        "id": "ITP_KrrriHfp",
        "colab_type": "code",
        "outputId": "7f76056f-ea60-4c7e-ffe8-c0a959754e73",
        "colab": {
          "base_uri": "https://localhost:8080/",
          "height": 562
        }
      },
      "source": [
        "## visuzalimos curvas de entrenamiento\n",
        "\n",
        "plt.figure()\n",
        "plt.title(\"Accuracy vs epochs\")\n",
        "plt.plot( history.history['acc'] )\n",
        "plt.plot( history.history['val_acc'] )\n",
        "plt.legend(['Training Accuracy', 'Validation Accuracy'])\n",
        "\n",
        "\n",
        "plt.figure()\n",
        "plt.title(\"Loss vs epochs\")\n",
        "plt.plot( history.history['loss'] )\n",
        "plt.plot( history.history['val_loss'] )\n",
        "plt.legend(['Training Loss', 'Validation Loss'])"
      ],
      "execution_count": 13,
      "outputs": [
        {
          "output_type": "execute_result",
          "data": {
            "text/plain": [
              "<matplotlib.legend.Legend at 0x7f96d83e4dd8>"
            ]
          },
          "metadata": {
            "tags": []
          },
          "execution_count": 13
        },
        {
          "output_type": "display_data",
          "data": {
            "image/png": "[encoded data removed]",
            "text/plain": [
              "<Figure size 432x288 with 1 Axes>"
            ]
          },
          "metadata": {
            "tags": []
          }
        },
        {
          "output_type": "display_data",
          "data": {
            "image/png": "[encoded data removed]",
            "text/plain": [
              "<Figure size 432x288 with 1 Axes>"
            ]
          },
          "metadata": {
            "tags": []
          }
        }
      ]
    },
    {
      "cell_type": "code",
      "metadata": {
        "id": "csDjYLEAiHft",
        "colab_type": "code",
        "colab": {}
      },
      "source": [
        ""
      ],
      "execution_count": 0,
      "outputs": []
    },
    {
      "cell_type": "markdown",
      "metadata": {
        "id": "dP2gbZEwiHfw",
        "colab_type": "text"
      },
      "source": [
        "## Usemos este modelo para hacer predicciones"
      ]
    },
    {
      "cell_type": "code",
      "metadata": {
        "id": "2npkRJzwiHfx",
        "colab_type": "code",
        "outputId": "466c8522-2e88-4819-80f6-82029693c246",
        "colab": {
          "base_uri": "https://localhost:8080/",
          "height": 34
        }
      },
      "source": [
        "## A completar: utilizar imagenes de testeo\n",
        "\n",
        "predicciones = model.predict(mnist.test.images)\n",
        "print(predicciones.shape)\n",
        "##"
      ],
      "execution_count": 14,
      "outputs": [
        {
          "output_type": "stream",
          "text": [
            "(10000, 10)\n"
          ],
          "name": "stdout"
        }
      ]
    },
    {
      "cell_type": "code",
      "metadata": {
        "id": "1e7KNl4HCbgi",
        "colab_type": "code",
        "colab": {
          "base_uri": "https://localhost:8080/",
          "height": 71
        },
        "outputId": "f46c6999-4dd3-4097-a2b0-68bda5ab6af2"
      },
      "source": [
        "#fig, ax = plt.subplots(3, 3, figsize=[15, 40])\n",
        "\n",
        "A = []\n",
        "B = []\n",
        "posicion = []\n",
        "\n",
        "for k in range (10000):\n",
        "\n",
        "\n",
        "  if np.argmax(mnist.test.labels[k]) != np.argmax(predicciones[k]):\n",
        "\n",
        "\n",
        "    A.append(mnist.test.images[k])\n",
        "    a = np.array(A)\n",
        "    B.append(predicciones[k])\n",
        "    b = np.array(B)\n",
        "    posicion.append(k)\n",
        "    \n",
        "print(a.shape)\n",
        "print(posicion)"
      ],
      "execution_count": 15,
      "outputs": [
        {
          "output_type": "stream",
          "text": [
            "(352, 784)\n",
            "[8, 18, 38, 115, 149, 151, 217, 233, 241, 245, 247, 259, 290, 321, 381, 394, 465, 495, 543, 550, 565, 578, 582, 583, 610, 619, 645, 659, 716, 720, 829, 877, 890, 900, 947, 956, 965, 1014, 1039, 1044, 1062, 1107, 1112, 1128, 1152, 1156, 1182, 1191, 1226, 1232, 1242, 1247, 1253, 1289, 1299, 1319, 1364, 1395, 1413, 1500, 1522, 1527, 1530, 1531, 1549, 1581, 1601, 1609, 1626, 1681, 1737, 1755, 1790, 1800, 1901, 1909, 1910, 1936, 1941, 1965, 1984, 1987, 2016, 2018, 2024, 2044, 2053, 2070, 2073, 2098, 2109, 2129, 2135, 2182, 2186, 2224, 2237, 2266, 2293, 2325, 2329, 2338, 2369, 2371, 2387, 2406, 2422, 2433, 2454, 2476, 2534, 2574, 2635, 2648, 2654, 2670, 2705, 2743, 2760, 2832, 2836, 2850, 2877, 2921, 2925, 2927, 2939, 2970, 2995, 3012, 3021, 3030, 3073, 3110, 3115, 3117, 3130, 3157, 3254, 3295, 3330, 3336, 3358, 3369, 3383, 3405, 3441, 3451, 3503, 3520, 3533, 3549, 3558, 3567, 3597, 3604, 3606, 3674, 3702, 3718, 3749, 3751, 3757, 3769, 3776, 3778, 3796, 3808, 3811, 3817, 3818, 3838, 3871, 3876, 3893, 3902, 3906, 3939, 3941, 3943, 4007, 4017, 4065, 4102, 4140, 4167, 4199, 4224, 4248, 4271, 4289, 4294, 4306, 4323, 4344, 4356, 4419, 4425, 4435, 4437, 4439, 4449, 4497, 4504, 4536, 4547, 4548, 4578, 4740, 4798, 4807, 4814, 4823, 4874, 4880, 4918, 4956, 5078, 5127, 5165, 5331, 5450, 5457, 5611, 5623, 5642, 5734, 5746, 5828, 5887, 5888, 5891, 5918, 5926, 5934, 5936, 5937, 5955, 5972, 5973, 5985, 6000, 6030, 6045, 6059, 6065, 6071, 6091, 6166, 6172, 6359, 6400, 6402, 6416, 6421, 6505, 6530, 6555, 6560, 6571, 6572, 6574, 6575, 6576, 6597, 6598, 6603, 6608, 6625, 6636, 6643, 6650, 6651, 6706, 6721, 6744, 6746, 6755, 6759, 6783, 6988, 7208, 7216, 7265, 7333, 7401, 7451, 7552, 7679, 7783, 7800, 7806, 7812, 7821, 7822, 7842, 7851, 7886, 7899, 7921, 7928, 8020, 8062, 8094, 8106, 8128, 8143, 8165, 8183, 8198, 8212, 8255, 8279, 8294, 8316, 8325, 8406, 8408, 8520, 8584, 9009, 9015, 9019, 9024, 9202, 9280, 9427, 9456, 9490, 9540, 9587, 9621, 9634, 9642, 9664, 9669, 9679, 9698, 9700, 9701, 9716, 9729, 9745, 9749, 9768, 9770, 9777, 9779, 9839, 9892, 9941, 9982]\n"
          ],
          "name": "stdout"
        }
      ]
    },
    {
      "cell_type": "markdown",
      "metadata": {
        "id": "_lniTmNgWOsO",
        "colab_type": "text"
      },
      "source": [
        "### 9 imagenes mal clasificadas por el modelo"
      ]
    },
    {
      "cell_type": "code",
      "metadata": {
        "id": "2XCSA-2U7N1o",
        "colab_type": "code",
        "colab": {
          "base_uri": "https://localhost:8080/",
          "height": 1000
        },
        "outputId": "8e40db08-b95d-433c-892d-b0c06166852a"
      },
      "source": [
        "fig, ax = plt.subplots(3, 3, figsize=[15, 40])\n",
        "\n",
        "\n",
        "for j in range(3):\n",
        "    for i in range(3):\n",
        "        \n",
        "       random_image = np.random.randint(low=0, high=376, size=1)\n",
        "\n",
        "       ax[i,j].imshow(a[random_image].reshape(28,28), 'gray')\n",
        "       ax[i,j].set_xticks([])\n",
        "       ax[i,j].set_yticks([])\n",
        "       ax[i,j].set_title('Predccion de mi red:  ' + str(np.argmax(b[random_image])), color='r')\n",
        "\n",
        "plt.show()\n",
        "\n"
      ],
      "execution_count": 16,
      "outputs": [
        {
          "output_type": "display_data",
          "data": {
            "image/png": "[encoded data removed]",
            "text/plain": [
              "<Figure size 1080x2880 with 9 Axes>"
            ]
          },
          "metadata": {
            "tags": []
          }
        }
      ]
    },
    {
      "cell_type": "markdown",
      "metadata": {
        "id": "CFy-SCx0YQUE",
        "colab_type": "text"
      },
      "source": [
        "### 9 imagenes elegidas al azar del grupo de test \n"
      ]
    },
    {
      "cell_type": "code",
      "metadata": {
        "id": "rv84L0MYiHf0",
        "colab_type": "code",
        "outputId": "53dc2428-ae69-44c0-b3a0-4e25c0b7a9e3",
        "colab": {
          "base_uri": "https://localhost:8080/",
          "height": 1000
        }
      },
      "source": [
        "fig, ax = plt.subplots(3, 3, figsize=[15, 40])\n",
        "\n",
        "\n",
        "for j in range(3):\n",
        "    for i in range(3):\n",
        "        \n",
        "       random_image = np.random.randint(low=0, high=1000, size=1)\n",
        "\n",
        "       ax[i,j].imshow(mnist.test.images[random_image].reshape(28,28), 'gray')\n",
        "       ax[i,j].set_xticks([])\n",
        "       ax[i,j].set_yticks([])\n",
        "       ax[i,j].set_title('Predccion de mi red:  ' + str(np.argmax(predicciones[random_image])), color='r')\n",
        "\n",
        "plt.show()"
      ],
      "execution_count": 17,
      "outputs": [
        {
          "output_type": "display_data",
          "data": {
            "image/png": "[encoded data removed]",
            "text/plain": [
              "<Figure size 1080x2880 with 9 Axes>"
            ]
          },
          "metadata": {
            "tags": []
          }
        }
      ]
    },
    {
      "cell_type": "code",
      "metadata": {
        "id": "2bLaI0ssiHf3",
        "colab_type": "code",
        "colab": {
          "base_uri": "https://localhost:8080/",
          "height": 282
        },
        "outputId": "b917bf3c-fd3b-4925-e9a4-3d062d2783a6"
      },
      "source": [
        "plt.imshow(mnist.test.images[322].reshape(28,28), 'gray')"
      ],
      "execution_count": 18,
      "outputs": [
        {
          "output_type": "execute_result",
          "data": {
            "text/plain": [
              "<matplotlib.image.AxesImage at 0x7f96d7eaf358>"
            ]
          },
          "metadata": {
            "tags": []
          },
          "execution_count": 18
        },
        {
          "output_type": "display_data",
          "data": {
            "image/png": "[encoded data removed]",
            "text/plain": [
              "<Figure size 432x288 with 1 Axes>"
            ]
          },
          "metadata": {
            "tags": []
          }
        }
      ]
    },
    {
      "cell_type": "code",
      "metadata": {
        "id": "8PsBQmnhWr3M",
        "colab_type": "code",
        "colab": {
          "base_uri": "https://localhost:8080/",
          "height": 34
        },
        "outputId": "7eb4c39c-37e0-4169-a62a-86189dbdd55e"
      },
      "source": [
        "print(np.argmax(predicciones[322]))"
      ],
      "execution_count": 19,
      "outputs": [
        {
          "output_type": "stream",
          "text": [
            "9\n"
          ],
          "name": "stdout"
        }
      ]
    },
    {
      "cell_type": "code",
      "metadata": {
        "id": "N5E96qABXyJ7",
        "colab_type": "code",
        "colab": {}
      },
      "source": [
        ""
      ],
      "execution_count": 0,
      "outputs": []
    }
  ]
}